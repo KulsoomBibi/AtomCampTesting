{
  "nbformat": 4,
  "nbformat_minor": 0,
  "metadata": {
    "colab": {
      "provenance": [],
      "authorship_tag": "ABX9TyPh9E7dFEl4pU1lbrQH9V/9",
      "include_colab_link": true
    },
    "kernelspec": {
      "name": "python3",
      "display_name": "Python 3"
    },
    "language_info": {
      "name": "python"
    }
  },
  "cells": [
    {
      "cell_type": "markdown",
      "metadata": {
        "id": "view-in-github",
        "colab_type": "text"
      },
      "source": [
        "<a href=\"https://colab.research.google.com/github/KulsoomBibi/DataScienceWithAtomCamp/blob/main/Fashion_Mnist_Data.ipynb\" target=\"_parent\"><img src=\"https://colab.research.google.com/assets/colab-badge.svg\" alt=\"Open In Colab\"/></a>"
      ]
    },
    {
      "cell_type": "code",
      "execution_count": 2,
      "metadata": {
        "id": "PvIQDlQZVr9Q"
      },
      "outputs": [],
      "source": [
        "from tensorflow.keras.models import Sequential\n",
        "from tensorflow.keras.layers import Conv2D, MaxPool2D, Dense, Flatten\n",
        "import numpy as np\n",
        "import matplotlib.pyplot as plt\n",
        "import random"
      ]
    },
    {
      "cell_type": "markdown",
      "source": [
        "**Importing Fashion Mnist Dataset**"
      ],
      "metadata": {
        "id": "zeKRHXV0WF6Y"
      }
    },
    {
      "cell_type": "code",
      "source": [
        "from keras.datasets import fashion_mnist\n",
        "\n",
        "(x_train, y_train), (x_test, y_test) = fashion_mnist.load_data()"
      ],
      "metadata": {
        "colab": {
          "base_uri": "https://localhost:8080/"
        },
        "id": "Tlt0MinFV7ny",
        "outputId": "38e28178-90ab-49ae-f305-e41a9344c5d2"
      },
      "execution_count": 3,
      "outputs": [
        {
          "output_type": "stream",
          "name": "stdout",
          "text": [
            "Downloading data from https://storage.googleapis.com/tensorflow/tf-keras-datasets/train-labels-idx1-ubyte.gz\n",
            "29515/29515 [==============================] - 0s 0us/step\n",
            "Downloading data from https://storage.googleapis.com/tensorflow/tf-keras-datasets/train-images-idx3-ubyte.gz\n",
            "26421880/26421880 [==============================] - 0s 0us/step\n",
            "Downloading data from https://storage.googleapis.com/tensorflow/tf-keras-datasets/t10k-labels-idx1-ubyte.gz\n",
            "5148/5148 [==============================] - 0s 0us/step\n",
            "Downloading data from https://storage.googleapis.com/tensorflow/tf-keras-datasets/t10k-images-idx3-ubyte.gz\n",
            "4422102/4422102 [==============================] - 0s 0us/step\n"
          ]
        }
      ]
    },
    {
      "cell_type": "markdown",
      "source": [
        "**Visualizing Dataset**"
      ],
      "metadata": {
        "id": "iKWRVzlXWcCj"
      }
    },
    {
      "cell_type": "code",
      "source": [
        "print(f\"X_train shape: {x_train.shape}\")\n",
        "print(f\"y_train shape: {y_train.shape}\")\n",
        "print(f\"X_test shape: {x_test.shape}\")\n",
        "print(f\"y_test shape: {y_test.shape}\")"
      ],
      "metadata": {
        "colab": {
          "base_uri": "https://localhost:8080/"
        },
        "id": "qQd5nOy3V7x9",
        "outputId": "dc79a0a9-7aaa-4d90-a508-fc75c3fbb1ea"
      },
      "execution_count": 4,
      "outputs": [
        {
          "output_type": "stream",
          "name": "stdout",
          "text": [
            "X_train shape: (60000, 28, 28)\n",
            "y_train shape: (60000,)\n",
            "X_test shape: (10000, 28, 28)\n",
            "y_test shape: (10000,)\n"
          ]
        }
      ]
    },
    {
      "cell_type": "code",
      "source": [
        "single_image = x_train[5]\n",
        "single_image"
      ],
      "metadata": {
        "colab": {
          "base_uri": "https://localhost:8080/",
          "height": 1000
        },
        "id": "rDycaSsJV74T",
        "outputId": "29b542a8-ec7c-4178-a9f0-202276104c8f"
      },
      "execution_count": 5,
      "outputs": [
        {
          "output_type": "execute_result",
          "data": {
            "text/plain": [
              "array([[  0,   0,   0,   0,   1,   0,   0,   0,   0,  22,  88, 188, 172,\n",
              "        132, 125, 141, 199, 143,   9,   0,   0,   0,   1,   0,   0,   0,\n",
              "          0,   0],\n",
              "       [  0,   0,   0,   1,   0,   0,  20, 131, 199, 206, 196, 202, 242,\n",
              "        255, 255, 250, 222, 197, 206, 188, 126,  17,   0,   0,   0,   0,\n",
              "          0,   0],\n",
              "       [  0,   0,   0,   1,   0,  35, 214, 191, 183, 178, 175, 168, 150,\n",
              "        162, 159, 152, 158, 179, 183, 189, 195, 185,  82,   0,   0,   0,\n",
              "          0,   0],\n",
              "       [  0,   0,   0,   0,   0, 170, 190, 172, 177, 176, 171, 169, 162,\n",
              "        155, 148, 154, 169, 174, 175, 175, 177, 183, 188,  12,   0,   0,\n",
              "          0,   0],\n",
              "       [  0,   0,   0,   0,  25, 194, 180, 178, 174, 184, 187, 189, 187,\n",
              "        184, 181, 189, 200, 197, 193, 190, 178, 175, 194,  90,   0,   0,\n",
              "          0,   0],\n",
              "       [  0,   0,   0,   0,  42, 218, 191, 197, 208, 204, 211, 209, 210,\n",
              "        212, 211, 214, 215, 213, 214, 211, 211, 191, 200, 158,   0,   0,\n",
              "          0,   0],\n",
              "       [  0,   0,   0,   0,  88, 221, 215, 217, 219, 211, 185, 150, 118,\n",
              "        107,  99,  88,  83,  90, 135, 212, 203, 207, 219, 169,   0,   0,\n",
              "          0,   0],\n",
              "       [  0,   0,   0,   0,   0,  27, 118, 162,  40,   0,   0,   0,  10,\n",
              "         19,  28,  39,  47,  36,   0,   0, 203, 230, 220, 203,   0,   0,\n",
              "          0,   0],\n",
              "       [  0,   0,   0,   0, 138, 136,  71,  69,  54, 216, 217, 203, 184,\n",
              "        168, 163, 162, 163, 178, 221, 186,  38,  26,   7,   0,   0,   0,\n",
              "          0,   0],\n",
              "       [  0,   0,   0,   0,  67, 134, 154, 224, 129,  66,  81, 117, 129,\n",
              "        128, 132, 137, 131, 129,  86,  73, 157, 151, 134, 216,  18,   0,\n",
              "          0,   0],\n",
              "       [  0,   0,   0,   0, 203, 198, 172, 183, 206, 255, 255, 250, 243,\n",
              "        240, 239, 235, 238, 244, 255, 238, 184, 160,  86,  98,   0,   0,\n",
              "          0,   0],\n",
              "       [  0,   0,   0,   0, 122, 188, 224, 151, 105, 127,  97, 100, 105,\n",
              "        114, 117, 117, 113, 103,  98, 111, 142, 254, 191, 255,  49,   0,\n",
              "          0,   0],\n",
              "       [  0,   0,   0,   0, 163, 179, 200,  95, 154, 198, 197, 200, 200,\n",
              "        198, 197, 198, 199, 202, 200, 176,  86, 206, 157, 162,  10,   0,\n",
              "          0,   0],\n",
              "       [  0,   0,   0,   0, 197, 201, 229,  71, 144, 194, 181, 183, 179,\n",
              "        182, 180, 179, 180, 190, 185, 197,  76, 219, 185, 201,  34,   0,\n",
              "          0,   0],\n",
              "       [  0,   0,   0,   0, 199, 193, 226,  58, 154, 192, 184, 187, 184,\n",
              "        186, 184, 185, 183, 192, 191, 200,  56, 219, 203, 207,  60,   0,\n",
              "          0,   0],\n",
              "       [  0,   0,   0,   0, 201, 194, 224,  41, 163, 190, 186, 186, 184,\n",
              "        185, 183, 185, 178, 190, 194, 202,  33, 211, 200, 206,  73,   0,\n",
              "          0,   0],\n",
              "       [  0,   0,   0,   0, 201, 197, 222,  17, 172, 190, 186, 187, 182,\n",
              "        186, 185, 187, 180, 187, 193, 202,  26, 212, 202, 203,  76,   0,\n",
              "          0,   0],\n",
              "       [  0,   0,   0,   0, 200, 197, 223,   0, 177, 189, 184, 185, 178,\n",
              "        184, 183, 184, 180, 183, 189, 203,  35, 196, 203, 203,  84,   0,\n",
              "          0,   0],\n",
              "       [  0,   0,   0,   0, 200, 197, 223,   0, 185, 187, 185, 187, 180,\n",
              "        184, 182, 183, 178, 182, 183, 205,  44, 159, 207, 201,  85,   0,\n",
              "          0,   0],\n",
              "       [  0,   0,   0,   0, 187, 198, 225,   0, 194, 188, 184, 185, 180,\n",
              "        183, 183, 184, 181, 181, 177, 206,  46, 129, 211, 200,  88,   0,\n",
              "          0,   0],\n",
              "       [  0,   0,   0,   6, 186, 200, 211,   0, 199, 189, 184, 184, 185,\n",
              "        182, 183, 184, 185, 182, 175, 205,  50,  97, 216, 197,  93,   0,\n",
              "          0,   0],\n",
              "       [  0,   0,   0,   5, 185, 204, 184,   0, 202, 188, 182, 182, 183,\n",
              "        183, 184, 182, 180, 182, 174, 202,  63,  59, 220, 196,  94,   0,\n",
              "          0,   0],\n",
              "       [  0,   0,   0,   5, 184, 206, 157,   0, 204, 187, 187, 189, 192,\n",
              "        190, 190, 191, 190, 187, 183, 202,  78,  35, 222, 197,  95,   0,\n",
              "          0,   0],\n",
              "       [  0,   0,   0,   5, 183, 208, 127,   0, 197, 166, 153, 149, 149,\n",
              "        146, 148, 149, 150, 151, 158, 191,  90,   8, 223, 195,  99,   0,\n",
              "          0,   0],\n",
              "       [  0,   0,   0,   6, 184, 208, 114,   0, 204, 173, 161, 180, 176,\n",
              "        172, 173, 173, 174, 176, 162, 202, 115,   0, 229, 199, 105,   0,\n",
              "          0,   0],\n",
              "       [  0,   0,   0,   9, 178, 204, 115,   0, 121, 135, 114, 117, 114,\n",
              "        114, 117, 118, 119, 117, 113, 147,  63,   0, 225, 196, 107,   0,\n",
              "          0,   0],\n",
              "       [  0,   0,   0,  18, 180, 206, 131,   0,   0,   0,   0,   0,   0,\n",
              "          0,   0,   0,   0,   0,   0,   0,   0,   0, 224, 197, 123,   0,\n",
              "          0,   0],\n",
              "       [  0,   0,   0,   0, 141, 151,  76,   0,   1,   1,   0,   0,   0,\n",
              "          0,   0,   0,   0,   0,   0,   0,   0,   0, 133, 167,  73,   0,\n",
              "          0,   0]], dtype=uint8)"
            ],
            "text/html": [
              "<style>\n",
              "      .ndarray_repr .ndarray_raw_data {\n",
              "        display: none;\n",
              "      }\n",
              "      .ndarray_repr.show_array .ndarray_raw_data {\n",
              "        display: block;\n",
              "      }\n",
              "      .ndarray_repr.show_array .ndarray_image_preview {\n",
              "        display: none;\n",
              "      }\n",
              "      </style>\n",
              "      <div id=\"id-2755e7fd-b071-42ca-87c6-03e790a38343\" class=\"ndarray_repr\"><pre>ndarray (28, 28) <button style=\"padding: 0 2px;\">show data</button></pre><img src=\"data:image/png;base64,iVBORw0KGgoAAAANSUhEUgAAABwAAAAcCAAAAABXZoBIAAACKElEQVR4nE3QsU8UURAG8G/mvX13e3vHnQoIQkKCFhrRxEQbbAwQO40xdrT2WvsHaGJrZWNiIYWJmmiipdEKxYgNCagQAoJHgDu8g+P29r03Fu4iU84v30xmCABIAPSO3d6Zjyuj0/f20w7on3Xfmci1zOkSkl+/w9rHR3X8x5NvNtqJi2tFF5sebUzr8csMgefdtUASH8exKQcENsGNXQAaAPr7GsYWIvbO5SNn3W47uj6V4ZE+ZyKb88SiyJPr2TITB3he9TG31xeX99p7Se7ctf1KMfq/c2By5P48UAjDKL/3EzMDrfqlLPnQv5/tmqfG9k4iVD67OLm7HR8kx8e7rz79UD5VFB10/FzzVqd+c7SW4kyyHh2/gCR2YpWJ6p+rb4tPsrGvxi6+e927ooJQwbaS0tDdoSuzsyme2a9OXx4RBS9Eylenvi2tLmTJYT1YbdkmW+WFCklPqzRY6VsCGAC47ZoFr3SgtVFs1BaOmhPIkHw99CwQQeIVb7SdlDKE8tUQIE/M7AQxsVMZCqgeiPfWewdrKdwh5A+SAPKemCHipcPhD+0pwyYxQhIPIVLSIV7Rko01wg0EBAkE0ORFLwcuSO8U0WtQ4kFE3rO40nctlD1BeA0sASsPEkcozzEdwhXEm00Lx0SUyxfXyOsUidBELpccs5ZA3Ij620abFFXHEl50bSoHReTtny+wjlMMmSt4gMMlVEmxtrD6CQQ5hM+GvwL4C+Bh+/WBv3Z5AAAAAElFTkSuQmCC\" class=\"ndarray_image_preview\" /><pre class=\"ndarray_raw_data\">array([[  0,   0,   0,   0,   1,   0,   0,   0,   0,  22,  88, 188, 172,\n",
              "        132, 125, 141, 199, 143,   9,   0,   0,   0,   1,   0,   0,   0,\n",
              "          0,   0],\n",
              "       [  0,   0,   0,   1,   0,   0,  20, 131, 199, 206, 196, 202, 242,\n",
              "        255, 255, 250, 222, 197, 206, 188, 126,  17,   0,   0,   0,   0,\n",
              "          0,   0],\n",
              "       [  0,   0,   0,   1,   0,  35, 214, 191, 183, 178, 175, 168, 150,\n",
              "        162, 159, 152, 158, 179, 183, 189, 195, 185,  82,   0,   0,   0,\n",
              "          0,   0],\n",
              "       [  0,   0,   0,   0,   0, 170, 190, 172, 177, 176, 171, 169, 162,\n",
              "        155, 148, 154, 169, 174, 175, 175, 177, 183, 188,  12,   0,   0,\n",
              "          0,   0],\n",
              "       [  0,   0,   0,   0,  25, 194, 180, 178, 174, 184, 187, 189, 187,\n",
              "        184, 181, 189, 200, 197, 193, 190, 178, 175, 194,  90,   0,   0,\n",
              "          0,   0],\n",
              "       [  0,   0,   0,   0,  42, 218, 191, 197, 208, 204, 211, 209, 210,\n",
              "        212, 211, 214, 215, 213, 214, 211, 211, 191, 200, 158,   0,   0,\n",
              "          0,   0],\n",
              "       [  0,   0,   0,   0,  88, 221, 215, 217, 219, 211, 185, 150, 118,\n",
              "        107,  99,  88,  83,  90, 135, 212, 203, 207, 219, 169,   0,   0,\n",
              "          0,   0],\n",
              "       [  0,   0,   0,   0,   0,  27, 118, 162,  40,   0,   0,   0,  10,\n",
              "         19,  28,  39,  47,  36,   0,   0, 203, 230, 220, 203,   0,   0,\n",
              "          0,   0],\n",
              "       [  0,   0,   0,   0, 138, 136,  71,  69,  54, 216, 217, 203, 184,\n",
              "        168, 163, 162, 163, 178, 221, 186,  38,  26,   7,   0,   0,   0,\n",
              "          0,   0],\n",
              "       [  0,   0,   0,   0,  67, 134, 154, 224, 129,  66,  81, 117, 129,\n",
              "        128, 132, 137, 131, 129,  86,  73, 157, 151, 134, 216,  18,   0,\n",
              "          0,   0],\n",
              "       [  0,   0,   0,   0, 203, 198, 172, 183, 206, 255, 255, 250, 243,\n",
              "        240, 239, 235, 238, 244, 255, 238, 184, 160,  86,  98,   0,   0,\n",
              "          0,   0],\n",
              "       [  0,   0,   0,   0, 122, 188, 224, 151, 105, 127,  97, 100, 105,\n",
              "        114, 117, 117, 113, 103,  98, 111, 142, 254, 191, 255,  49,   0,\n",
              "          0,   0],\n",
              "       [  0,   0,   0,   0, 163, 179, 200,  95, 154, 198, 197, 200, 200,\n",
              "        198, 197, 198, 199, 202, 200, 176,  86, 206, 157, 162,  10,   0,\n",
              "          0,   0],\n",
              "       [  0,   0,   0,   0, 197, 201, 229,  71, 144, 194, 181, 183, 179,\n",
              "        182, 180, 179, 180, 190, 185, 197,  76, 219, 185, 201,  34,   0,\n",
              "          0,   0],\n",
              "       [  0,   0,   0,   0, 199, 193, 226,  58, 154, 192, 184, 187, 184,\n",
              "        186, 184, 185, 183, 192, 191, 200,  56, 219, 203, 207,  60,   0,\n",
              "          0,   0],\n",
              "       [  0,   0,   0,   0, 201, 194, 224,  41, 163, 190, 186, 186, 184,\n",
              "        185, 183, 185, 178, 190, 194, 202,  33, 211, 200, 206,  73,   0,\n",
              "          0,   0],\n",
              "       [  0,   0,   0,   0, 201, 197, 222,  17, 172, 190, 186, 187, 182,\n",
              "        186, 185, 187, 180, 187, 193, 202,  26, 212, 202, 203,  76,   0,\n",
              "          0,   0],\n",
              "       [  0,   0,   0,   0, 200, 197, 223,   0, 177, 189, 184, 185, 178,\n",
              "        184, 183, 184, 180, 183, 189, 203,  35, 196, 203, 203,  84,   0,\n",
              "          0,   0],\n",
              "       [  0,   0,   0,   0, 200, 197, 223,   0, 185, 187, 185, 187, 180,\n",
              "        184, 182, 183, 178, 182, 183, 205,  44, 159, 207, 201,  85,   0,\n",
              "          0,   0],\n",
              "       [  0,   0,   0,   0, 187, 198, 225,   0, 194, 188, 184, 185, 180,\n",
              "        183, 183, 184, 181, 181, 177, 206,  46, 129, 211, 200,  88,   0,\n",
              "          0,   0],\n",
              "       [  0,   0,   0,   6, 186, 200, 211,   0, 199, 189, 184, 184, 185,\n",
              "        182, 183, 184, 185, 182, 175, 205,  50,  97, 216, 197,  93,   0,\n",
              "          0,   0],\n",
              "       [  0,   0,   0,   5, 185, 204, 184,   0, 202, 188, 182, 182, 183,\n",
              "        183, 184, 182, 180, 182, 174, 202,  63,  59, 220, 196,  94,   0,\n",
              "          0,   0],\n",
              "       [  0,   0,   0,   5, 184, 206, 157,   0, 204, 187, 187, 189, 192,\n",
              "        190, 190, 191, 190, 187, 183, 202,  78,  35, 222, 197,  95,   0,\n",
              "          0,   0],\n",
              "       [  0,   0,   0,   5, 183, 208, 127,   0, 197, 166, 153, 149, 149,\n",
              "        146, 148, 149, 150, 151, 158, 191,  90,   8, 223, 195,  99,   0,\n",
              "          0,   0],\n",
              "       [  0,   0,   0,   6, 184, 208, 114,   0, 204, 173, 161, 180, 176,\n",
              "        172, 173, 173, 174, 176, 162, 202, 115,   0, 229, 199, 105,   0,\n",
              "          0,   0],\n",
              "       [  0,   0,   0,   9, 178, 204, 115,   0, 121, 135, 114, 117, 114,\n",
              "        114, 117, 118, 119, 117, 113, 147,  63,   0, 225, 196, 107,   0,\n",
              "          0,   0],\n",
              "       [  0,   0,   0,  18, 180, 206, 131,   0,   0,   0,   0,   0,   0,\n",
              "          0,   0,   0,   0,   0,   0,   0,   0,   0, 224, 197, 123,   0,\n",
              "          0,   0],\n",
              "       [  0,   0,   0,   0, 141, 151,  76,   0,   1,   1,   0,   0,   0,\n",
              "          0,   0,   0,   0,   0,   0,   0,   0,   0, 133, 167,  73,   0,\n",
              "          0,   0]], dtype=uint8)</pre></div><script>\n",
              "      (() => {\n",
              "      const titles = ['show data', 'hide data'];\n",
              "      let index = 0\n",
              "      document.querySelector('#id-2755e7fd-b071-42ca-87c6-03e790a38343 button').onclick = (e) => {\n",
              "        document.querySelector('#id-2755e7fd-b071-42ca-87c6-03e790a38343').classList.toggle('show_array');\n",
              "        index = (++index) % 2;\n",
              "        document.querySelector('#id-2755e7fd-b071-42ca-87c6-03e790a38343 button').textContent = titles[index];\n",
              "        e.preventDefault();\n",
              "        e.stopPropagation();\n",
              "      }\n",
              "      })();\n",
              "    </script>"
            ]
          },
          "metadata": {},
          "execution_count": 5
        }
      ]
    },
    {
      "cell_type": "code",
      "source": [
        "single_image.shape"
      ],
      "metadata": {
        "colab": {
          "base_uri": "https://localhost:8080/"
        },
        "id": "8Dji8jIcV76Q",
        "outputId": "ac591a3a-3e56-4d0b-895e-7b5bdc8b5fc4"
      },
      "execution_count": 6,
      "outputs": [
        {
          "output_type": "execute_result",
          "data": {
            "text/plain": [
              "(28, 28)"
            ]
          },
          "metadata": {},
          "execution_count": 6
        }
      ]
    },
    {
      "cell_type": "code",
      "source": [
        "plt.imshow(single_image, cmap='gray')"
      ],
      "metadata": {
        "colab": {
          "base_uri": "https://localhost:8080/",
          "height": 448
        },
        "id": "NgUeUjAaV79B",
        "outputId": "ae908f44-0727-4f28-e317-30d969f4f112"
      },
      "execution_count": 7,
      "outputs": [
        {
          "output_type": "execute_result",
          "data": {
            "text/plain": [
              "<matplotlib.image.AxesImage at 0x7ff33ade90f0>"
            ]
          },
          "metadata": {},
          "execution_count": 7
        },
        {
          "output_type": "display_data",
          "data": {
            "text/plain": [
              "<Figure size 640x480 with 1 Axes>"
            ],
            "image/png": "[encoded data removed]"
          },
          "metadata": {}
        }
      ]
    },
    {
      "cell_type": "markdown",
      "source": [
        "**Data Preprocessing**\n",
        "\n",
        "**TASK 3: Normalize the X train and X test data by dividing by the max value of the image arrays.**"
      ],
      "metadata": {
        "id": "1-v1zYAmbw5G"
      }
    },
    {
      "cell_type": "code",
      "source": [
        "y_train"
      ],
      "metadata": {
        "colab": {
          "base_uri": "https://localhost:8080/"
        },
        "id": "iB0EzJNwWyt9",
        "outputId": "8f0697c1-f0fd-4f56-d5ea-886d9eb08bbd"
      },
      "execution_count": 8,
      "outputs": [
        {
          "output_type": "execute_result",
          "data": {
            "text/plain": [
              "array([9, 0, 0, ..., 3, 0, 5], dtype=uint8)"
            ]
          },
          "metadata": {},
          "execution_count": 8
        }
      ]
    },
    {
      "cell_type": "code",
      "source": [
        "y_test"
      ],
      "metadata": {
        "colab": {
          "base_uri": "https://localhost:8080/"
        },
        "id": "lYhVKdp4WywZ",
        "outputId": "685211bc-4bd1-477f-9241-6013b09131c6"
      },
      "execution_count": 9,
      "outputs": [
        {
          "output_type": "execute_result",
          "data": {
            "text/plain": [
              "array([9, 2, 1, ..., 8, 1, 5], dtype=uint8)"
            ]
          },
          "metadata": {},
          "execution_count": 9
        }
      ]
    },
    {
      "cell_type": "code",
      "source": [
        "single_image.max()"
      ],
      "metadata": {
        "colab": {
          "base_uri": "https://localhost:8080/"
        },
        "id": "aLPDOpiOWy0k",
        "outputId": "6397bd84-0f9e-476a-f85a-7c13db29d6f5"
      },
      "execution_count": 10,
      "outputs": [
        {
          "output_type": "execute_result",
          "data": {
            "text/plain": [
              "255"
            ]
          },
          "metadata": {},
          "execution_count": 10
        }
      ]
    },
    {
      "cell_type": "code",
      "source": [
        "single_image.min()"
      ],
      "metadata": {
        "colab": {
          "base_uri": "https://localhost:8080/"
        },
        "id": "3s5bXUPOWy4h",
        "outputId": "13534c34-f23d-4d93-cceb-c417f46f3b23"
      },
      "execution_count": 11,
      "outputs": [
        {
          "output_type": "execute_result",
          "data": {
            "text/plain": [
              "0"
            ]
          },
          "metadata": {},
          "execution_count": 11
        }
      ]
    },
    {
      "cell_type": "code",
      "source": [
        "x_train = x_train/255\n",
        "x_test = x_test/255"
      ],
      "metadata": {
        "id": "oVwnfTUvWy65"
      },
      "execution_count": 12,
      "outputs": []
    },
    {
      "cell_type": "code",
      "source": [
        "scaled_image = x_train[0]"
      ],
      "metadata": {
        "id": "YltcUXEkWy9I"
      },
      "execution_count": 13,
      "outputs": []
    },
    {
      "cell_type": "code",
      "source": [
        "scaled_image.max()"
      ],
      "metadata": {
        "colab": {
          "base_uri": "https://localhost:8080/"
        },
        "id": "AUgmvWSBWy_5",
        "outputId": "74d02a5f-3443-4238-e819-43648f12b61a"
      },
      "execution_count": 14,
      "outputs": [
        {
          "output_type": "execute_result",
          "data": {
            "text/plain": [
              "1.0"
            ]
          },
          "metadata": {},
          "execution_count": 14
        }
      ]
    },
    {
      "cell_type": "code",
      "source": [
        "scaled_image.min()"
      ],
      "metadata": {
        "colab": {
          "base_uri": "https://localhost:8080/"
        },
        "id": "Rrpk3GarXQYS",
        "outputId": "dafaae2c-8c33-4f30-ab4a-2ff61fb86658"
      },
      "execution_count": 15,
      "outputs": [
        {
          "output_type": "execute_result",
          "data": {
            "text/plain": [
              "0.0"
            ]
          },
          "metadata": {},
          "execution_count": 15
        }
      ]
    },
    {
      "cell_type": "code",
      "source": [
        "plt.imshow(scaled_image, cmap='gray')"
      ],
      "metadata": {
        "colab": {
          "base_uri": "https://localhost:8080/",
          "height": 448
        },
        "id": "q1yb8V-DXQd3",
        "outputId": "e777f5f1-3888-4ea6-8fd6-5882a2324e01"
      },
      "execution_count": 16,
      "outputs": [
        {
          "output_type": "execute_result",
          "data": {
            "text/plain": [
              "<matplotlib.image.AxesImage at 0x7ff337896200>"
            ]
          },
          "metadata": {},
          "execution_count": 16
        },
        {
          "output_type": "display_data",
          "data": {
            "text/plain": [
              "<Figure size 640x480 with 1 Axes>"
            ],
            "image/png": "[encoded data removed]"
          },
          "metadata": {}
        }
      ]
    },
    {
      "cell_type": "markdown",
      "source": [
        "**Task 4: Reshape the X arrays to include a 4 dimension of the single channel. Similar to what we did for the numbers MNIST data set.**"
      ],
      "metadata": {
        "id": "UgFJwor2XdFo"
      }
    },
    {
      "cell_type": "code",
      "source": [
        "x_train = x_train.reshape(60000, 28, 28, 1)"
      ],
      "metadata": {
        "id": "NxiWkPc1XQjA"
      },
      "execution_count": 17,
      "outputs": []
    },
    {
      "cell_type": "code",
      "source": [
        "x_train.shape"
      ],
      "metadata": {
        "colab": {
          "base_uri": "https://localhost:8080/"
        },
        "id": "utXeE34BXQl0",
        "outputId": "de12b29d-afaa-44a2-ec37-7c08e8f3921d"
      },
      "execution_count": 18,
      "outputs": [
        {
          "output_type": "execute_result",
          "data": {
            "text/plain": [
              "(60000, 28, 28, 1)"
            ]
          },
          "metadata": {},
          "execution_count": 18
        }
      ]
    },
    {
      "cell_type": "code",
      "source": [
        "x_test = x_test.reshape(10000,28,28,1)"
      ],
      "metadata": {
        "id": "VU5hvRcBXQo5"
      },
      "execution_count": 20,
      "outputs": []
    },
    {
      "cell_type": "code",
      "source": [
        "x_test.shape"
      ],
      "metadata": {
        "colab": {
          "base_uri": "https://localhost:8080/"
        },
        "id": "RMOwkKNiXQsK",
        "outputId": "ddb4a506-209b-407b-8ae0-cd11da8823ba"
      },
      "execution_count": 21,
      "outputs": [
        {
          "output_type": "execute_result",
          "data": {
            "text/plain": [
              "(10000, 28, 28, 1)"
            ]
          },
          "metadata": {},
          "execution_count": 21
        }
      ]
    },
    {
      "cell_type": "code",
      "source": [],
      "metadata": {
        "id": "5pf8rPcqXQus"
      },
      "execution_count": null,
      "outputs": []
    },
    {
      "cell_type": "markdown",
      "source": [
        "**TASK 5: Convert the y_train and y_test values to be one-hot encoded for categorical analysis by Keras.**"
      ],
      "metadata": {
        "id": "PDorDVnXYn0v"
      }
    },
    {
      "cell_type": "code",
      "source": [
        "from tensorflow.keras.utils import to_categorical"
      ],
      "metadata": {
        "id": "OwoCUKihXQyO"
      },
      "execution_count": 22,
      "outputs": []
    },
    {
      "cell_type": "code",
      "source": [
        "y_train.shape\n",
        "\n",
        "\n"
      ],
      "metadata": {
        "colab": {
          "base_uri": "https://localhost:8080/"
        },
        "id": "CR7EaBu7Yp9p",
        "outputId": "6377a584-44f6-4380-c8ad-1dfabea620ba"
      },
      "execution_count": 23,
      "outputs": [
        {
          "output_type": "execute_result",
          "data": {
            "text/plain": [
              "(60000,)"
            ]
          },
          "metadata": {},
          "execution_count": 23
        }
      ]
    },
    {
      "cell_type": "code",
      "source": [
        "y_example = to_categorical(y_train)\n",
        "y_example"
      ],
      "metadata": {
        "colab": {
          "base_uri": "https://localhost:8080/"
        },
        "id": "ha2NSU7aYqAM",
        "outputId": "97362310-181e-42e5-d557-00be1430fd86"
      },
      "execution_count": 24,
      "outputs": [
        {
          "output_type": "execute_result",
          "data": {
            "text/plain": [
              "array([[0., 0., 0., ..., 0., 0., 1.],\n",
              "       [1., 0., 0., ..., 0., 0., 0.],\n",
              "       [1., 0., 0., ..., 0., 0., 0.],\n",
              "       ...,\n",
              "       [0., 0., 0., ..., 0., 0., 0.],\n",
              "       [1., 0., 0., ..., 0., 0., 0.],\n",
              "       [0., 0., 0., ..., 0., 0., 0.]], dtype=float32)"
            ]
          },
          "metadata": {},
          "execution_count": 24
        }
      ]
    },
    {
      "cell_type": "code",
      "source": [
        "y_example.shape"
      ],
      "metadata": {
        "colab": {
          "base_uri": "https://localhost:8080/"
        },
        "id": "JBiwR5euYqCk",
        "outputId": "bd71732e-bfb6-469e-cf71-33e1fa759814"
      },
      "execution_count": 25,
      "outputs": [
        {
          "output_type": "execute_result",
          "data": {
            "text/plain": [
              "(60000, 10)"
            ]
          },
          "metadata": {},
          "execution_count": 25
        }
      ]
    },
    {
      "cell_type": "code",
      "source": [
        "y_cat_train = to_categorical(y_train,10)"
      ],
      "metadata": {
        "id": "tBwS2XYXYqE-"
      },
      "execution_count": 26,
      "outputs": []
    },
    {
      "cell_type": "code",
      "source": [
        "y_cat_test = to_categorical(y_test,10)"
      ],
      "metadata": {
        "id": "YyIW09xUYqMX"
      },
      "execution_count": 27,
      "outputs": []
    },
    {
      "cell_type": "code",
      "source": [
        "single_image.max()"
      ],
      "metadata": {
        "colab": {
          "base_uri": "https://localhost:8080/"
        },
        "id": "i67uK5n8YqPE",
        "outputId": "60f97338-d97c-41d9-d40a-e8070ae45501"
      },
      "execution_count": 28,
      "outputs": [
        {
          "output_type": "execute_result",
          "data": {
            "text/plain": [
              "255"
            ]
          },
          "metadata": {},
          "execution_count": 28
        }
      ]
    },
    {
      "cell_type": "code",
      "source": [
        "single_image.min()"
      ],
      "metadata": {
        "colab": {
          "base_uri": "https://localhost:8080/"
        },
        "id": "2UdmZH63ZGAj",
        "outputId": "d9f8e45e-fbcf-429e-eeb9-b019d9ad476a"
      },
      "execution_count": 29,
      "outputs": [
        {
          "output_type": "execute_result",
          "data": {
            "text/plain": [
              "0"
            ]
          },
          "metadata": {},
          "execution_count": 29
        }
      ]
    },
    {
      "cell_type": "markdown",
      "source": [
        "**Modelling**\n",
        "\n",
        "**TASK 6: Use Keras to create a model consisting of at least the following layers**"
      ],
      "metadata": {
        "id": "pOzXHB9SZNiL"
      }
    },
    {
      "cell_type": "code",
      "source": [
        "model = Sequential()\n",
        "\n",
        "model.add(Conv2D(filters=32, kernel_size=(4,4), input_shape=(28,28,1), activation = 'relu'))\n",
        "\n",
        "model.add(MaxPool2D(pool_size=(2,2)))\n",
        "\n",
        "model.add(Flatten())\n",
        "\n",
        "model.add(Dense(128, activation='relu'))\n",
        "\n",
        "model.add(Dense(10, activation='softmax'))"
      ],
      "metadata": {
        "id": "t5EPsPswZGFL"
      },
      "execution_count": 31,
      "outputs": []
    },
    {
      "cell_type": "code",
      "source": [
        "model.compile(loss='categorical_crossentropy',\n",
        "             optimizer = 'rmsprop',\n",
        "             metrics = ['accuracy'])"
      ],
      "metadata": {
        "id": "AaOs-G_fZGQP"
      },
      "execution_count": 32,
      "outputs": []
    },
    {
      "cell_type": "code",
      "source": [
        "model.summary()"
      ],
      "metadata": {
        "colab": {
          "base_uri": "https://localhost:8080/"
        },
        "id": "LJ1NyoUIZGSg",
        "outputId": "e0ffc6d8-c39a-4575-987b-04599e7a4daa"
      },
      "execution_count": 33,
      "outputs": [
        {
          "output_type": "stream",
          "name": "stdout",
          "text": [
            "Model: \"sequential_1\"\n",
            "_________________________________________________________________\n",
            " Layer (type)                Output Shape              Param #   \n",
            "=================================================================\n",
            " conv2d_1 (Conv2D)           (None, 25, 25, 32)        544       \n",
            "                                                                 \n",
            " max_pooling2d_1 (MaxPoolin  (None, 12, 12, 32)        0         \n",
            " g2D)                                                            \n",
            "                                                                 \n",
            " flatten_1 (Flatten)         (None, 4608)              0         \n",
            "                                                                 \n",
            " dense_2 (Dense)             (None, 128)               589952    \n",
            "                                                                 \n",
            " dense_3 (Dense)             (None, 10)                1290      \n",
            "                                                                 \n",
            "=================================================================\n",
            "Total params: 591786 (2.26 MB)\n",
            "Trainable params: 591786 (2.26 MB)\n",
            "Non-trainable params: 0 (0.00 Byte)\n",
            "_________________________________________________________________\n"
          ]
        }
      ]
    },
    {
      "cell_type": "code",
      "source": [
        "model.fit(x_train,y_cat_train, epochs=10)"
      ],
      "metadata": {
        "colab": {
          "base_uri": "https://localhost:8080/"
        },
        "id": "FRGJSjDlZGVA",
        "outputId": "ec7d35c3-6dff-4aac-babe-a89a6ca170bc"
      },
      "execution_count": 34,
      "outputs": [
        {
          "output_type": "stream",
          "name": "stdout",
          "text": [
            "Epoch 1/10\n",
            "1875/1875 [==============================] - 41s 21ms/step - loss: 0.4043 - accuracy: 0.8549\n",
            "Epoch 2/10\n",
            "1875/1875 [==============================] - 37s 20ms/step - loss: 0.2802 - accuracy: 0.8995\n",
            "Epoch 3/10\n",
            "1875/1875 [==============================] - 36s 19ms/step - loss: 0.2391 - accuracy: 0.9130\n",
            "Epoch 4/10\n",
            "1875/1875 [==============================] - 36s 19ms/step - loss: 0.2130 - accuracy: 0.9216\n",
            "Epoch 5/10\n",
            "1875/1875 [==============================] - 35s 18ms/step - loss: 0.1916 - accuracy: 0.9292\n",
            "Epoch 6/10\n",
            "1875/1875 [==============================] - 36s 19ms/step - loss: 0.1759 - accuracy: 0.9354\n",
            "Epoch 7/10\n",
            "1875/1875 [==============================] - 36s 19ms/step - loss: 0.1595 - accuracy: 0.9418\n",
            "Epoch 8/10\n",
            "1875/1875 [==============================] - 36s 19ms/step - loss: 0.1473 - accuracy: 0.9466\n",
            "Epoch 9/10\n",
            "1875/1875 [==============================] - 36s 19ms/step - loss: 0.1351 - accuracy: 0.9507\n",
            "Epoch 10/10\n",
            "1875/1875 [==============================] - 36s 19ms/step - loss: 0.1262 - accuracy: 0.9549\n"
          ]
        },
        {
          "output_type": "execute_result",
          "data": {
            "text/plain": [
              "<keras.src.callbacks.History at 0x7ff337f1a950>"
            ]
          },
          "metadata": {},
          "execution_count": 34
        }
      ]
    },
    {
      "cell_type": "markdown",
      "source": [
        "**Evaluating the Model**"
      ],
      "metadata": {
        "id": "2sD-wgRZbF18"
      }
    },
    {
      "cell_type": "code",
      "source": [
        "model.metrics_names"
      ],
      "metadata": {
        "colab": {
          "base_uri": "https://localhost:8080/"
        },
        "id": "VxLZUMnAZGcz",
        "outputId": "3078aac4-47ee-4343-fab5-c4f954b5df0c"
      },
      "execution_count": 35,
      "outputs": [
        {
          "output_type": "execute_result",
          "data": {
            "text/plain": [
              "['loss', 'accuracy']"
            ]
          },
          "metadata": {},
          "execution_count": 35
        }
      ]
    },
    {
      "cell_type": "code",
      "source": [
        "model.evaluate(x_test, y_cat_test)"
      ],
      "metadata": {
        "colab": {
          "base_uri": "https://localhost:8080/"
        },
        "id": "y9U-ca7QbO_q",
        "outputId": "1d24f930-de9e-49c9-cf59-d528e08f7882"
      },
      "execution_count": 36,
      "outputs": [
        {
          "output_type": "stream",
          "name": "stdout",
          "text": [
            "313/313 [==============================] - 3s 7ms/step - loss: 0.3262 - accuracy: 0.9132\n"
          ]
        },
        {
          "output_type": "execute_result",
          "data": {
            "text/plain": [
              "[0.32619091868400574, 0.9132000207901001]"
            ]
          },
          "metadata": {},
          "execution_count": 36
        }
      ]
    },
    {
      "cell_type": "markdown",
      "source": [
        "**Classification**"
      ],
      "metadata": {
        "id": "lIkeJv3HbVRX"
      }
    },
    {
      "cell_type": "code",
      "source": [
        "from sklearn.metrics import classification_report\n",
        "import numpy as np"
      ],
      "metadata": {
        "id": "7CIn2BxAbPE_"
      },
      "execution_count": 37,
      "outputs": []
    },
    {
      "cell_type": "code",
      "source": [
        "predictions = model.predict(x_test)\n",
        "predictions_classes = np.argmax(predictions, axis=1)"
      ],
      "metadata": {
        "colab": {
          "base_uri": "https://localhost:8080/"
        },
        "id": "y7C56Z5QbPQY",
        "outputId": "a13e8278-ae7d-4646-9c61-57ba2be71183"
      },
      "execution_count": 38,
      "outputs": [
        {
          "output_type": "stream",
          "name": "stdout",
          "text": [
            "313/313 [==============================] - 2s 7ms/step\n"
          ]
        }
      ]
    },
    {
      "cell_type": "code",
      "source": [
        "report = classification_report(y_test, predictions_classes)\n",
        "print(report)"
      ],
      "metadata": {
        "colab": {
          "base_uri": "https://localhost:8080/"
        },
        "id": "J3CTgpBbbPTF",
        "outputId": "5d28f7eb-cc5b-400f-d974-4a7d92bdbc92"
      },
      "execution_count": 39,
      "outputs": [
        {
          "output_type": "stream",
          "name": "stdout",
          "text": [
            "              precision    recall  f1-score   support\n",
            "\n",
            "           0       0.83      0.89      0.86      1000\n",
            "           1       0.99      0.97      0.98      1000\n",
            "           2       0.87      0.83      0.85      1000\n",
            "           3       0.91      0.92      0.92      1000\n",
            "           4       0.87      0.85      0.86      1000\n",
            "           5       0.97      0.98      0.98      1000\n",
            "           6       0.76      0.77      0.77      1000\n",
            "           7       0.96      0.97      0.97      1000\n",
            "           8       0.99      0.98      0.98      1000\n",
            "           9       0.98      0.96      0.97      1000\n",
            "\n",
            "    accuracy                           0.91     10000\n",
            "   macro avg       0.91      0.91      0.91     10000\n",
            "weighted avg       0.91      0.91      0.91     10000\n",
            "\n"
          ]
        }
      ]
    },
    {
      "cell_type": "code",
      "source": [],
      "metadata": {
        "id": "MDka1pHYbPVv"
      },
      "execution_count": null,
      "outputs": []
    },
    {
      "cell_type": "code",
      "source": [],
      "metadata": {
        "id": "zrCfZSBSbPbM"
      },
      "execution_count": null,
      "outputs": []
    }
  ]
}